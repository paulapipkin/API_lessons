{
 "cells": [
  {
   "cell_type": "code",
   "execution_count": 3,
   "id": "0caed581",
   "metadata": {},
   "outputs": [],
   "source": [
    "# Standard Imports\n",
    "import numpy as np\n",
    "import pandas as pd\n",
    "import matplotlib.pyplot as plt\n",
    "import seaborn as sns\n",
    "# Additional Imports\n",
    "import os, json, math, time\n",
    "from yelpapi import YelpAPI\n",
    "from tqdm.notebook import tqdm_notebook\n",
    "\n"
   ]
  },
  {
   "cell_type": "code",
   "execution_count": 4,
   "id": "906259c0",
   "metadata": {},
   "outputs": [],
   "source": [
    "# Load API Credentials\n",
    "with open('/Users/paula/.secret/yelp_api.json') as f:   #use your path here!\n",
    "    login = json.load(f)\n",
    "# Instantiate YelpAPI Variable\n",
    "yelp_api = YelpAPI(login['api-key'], timeout_s=5.0)\n",
    "\n"
   ]
  },
  {
   "cell_type": "code",
   "execution_count": 10,
   "id": "753c6178",
   "metadata": {},
   "outputs": [
    {
     "data": {
      "text/plain": [
       "'data/results_in_progress_Ventura_beer.json'"
      ]
     },
     "execution_count": 10,
     "metadata": {},
     "output_type": "execute_result"
    }
   ],
   "source": [
    "# Specifying JSON_FILE filename (can include a folder)\n",
    "# include the search terms in the filename\n",
    "JSON_FILE = f\"data/results_in_progress_Ventura_beer.json\"\n",
    "JSON_FILE\n",
    "\n"
   ]
  },
  {
   "cell_type": "code",
   "execution_count": 13,
   "id": "c3e43c3c",
   "metadata": {},
   "outputs": [
    {
     "name": "stdout",
     "output_type": "stream",
     "text": [
      "[i] data/results_in_progress_Ventura_beer.json already exists.\n"
     ]
    }
   ],
   "source": [
    "## Check if JSON_FILE exists\n",
    "file_exists = os.path.isfile(JSON_FILE)\n",
    "## If it does not exist: \n",
    "if file_exists == False:\n",
    "    ## INFORM USER AND SAVE EMPTY LIST\n",
    "    print(f\"[i] {JSON_FILE} not found. Saving empty list to new file.\")\n",
    "        ## CREATE ANY NEEDED FOLDERS\n",
    "    # Get the Folder Name only\n",
    "    folder = os.path.dirname(JSON_FILE)\n",
    "    ## If JSON_FILE included a folder:\n",
    "    if len(folder)>0:\n",
    "        # create the folder\n",
    "        os.makedirs(folder,exist_ok=True)\n",
    "    \n",
    "    \n",
    "    ## save an empty list to start the file\n",
    "    with open(JSON_FILE,'w') as f:\n",
    "        json.dump([],f)  \n",
    "## If it exists, inform user\n",
    "else:\n",
    "    print(f\"[i] {JSON_FILE} already exists.\")"
   ]
  },
  {
   "cell_type": "code",
   "execution_count": 14,
   "id": "cb20b1a5",
   "metadata": {},
   "outputs": [
    {
     "name": "stdout",
     "output_type": "stream",
     "text": [
      "- 0 previous results found.\n"
     ]
    }
   ],
   "source": [
    "## Load previous results and use len of results for offset\n",
    "with open(JSON_FILE,'r') as f:\n",
    "    previous_results = json.load(f)\n",
    "    \n",
    "## set offset based on previous results\n",
    "n_results = len(previous_results)\n",
    "print(f'- {n_results} previous results found.')\n",
    "\n"
   ]
  },
  {
   "cell_type": "code",
   "execution_count": 15,
   "id": "72124f95",
   "metadata": {},
   "outputs": [
    {
     "data": {
      "text/plain": [
       "dict_keys(['businesses', 'total', 'region'])"
      ]
     },
     "execution_count": 15,
     "metadata": {},
     "output_type": "execute_result"
    }
   ],
   "source": [
    "# use our yelp_api variable's search_query method to perform our API call\n",
    "LOCATION = 'Ventura, CA'\n",
    "TERM = 'beer'\n",
    "\n",
    "results = yelp_api.search_query(location=LOCATION,\n",
    "                                term=TERM,\n",
    "                               offset=n_results)\n",
    "results.keys()\n",
    "\n"
   ]
  },
  {
   "cell_type": "code",
   "execution_count": 16,
   "id": "de6a0e29",
   "metadata": {},
   "outputs": [
    {
     "data": {
      "text/plain": [
       "394"
      ]
     },
     "execution_count": 16,
     "metadata": {},
     "output_type": "execute_result"
    }
   ],
   "source": [
    "## How many results total?\n",
    "total_results = results['total']\n",
    "total_results\n",
    "\n"
   ]
  },
  {
   "cell_type": "code",
   "execution_count": 17,
   "id": "be1a0f87",
   "metadata": {},
   "outputs": [
    {
     "data": {
      "text/plain": [
       "20"
      ]
     },
     "execution_count": 17,
     "metadata": {},
     "output_type": "execute_result"
    }
   ],
   "source": [
    "## How many did we get the details for?\n",
    "results_per_page = len(results['businesses'])\n",
    "results_per_page\n",
    "\n"
   ]
  },
  {
   "cell_type": "code",
   "execution_count": 18,
   "id": "5ef6de49",
   "metadata": {},
   "outputs": [
    {
     "data": {
      "text/plain": [
       "20"
      ]
     },
     "execution_count": 18,
     "metadata": {},
     "output_type": "execute_result"
    }
   ],
   "source": [
    "# Import additional packages for controlling our loop\n",
    "import time, math\n",
    "# Use math.ceil to round up for the total number of pages of results.\n",
    "n_pages = math.ceil((results['total']-n_results)/ results_per_page)\n",
    "n_pages\n",
    "\n"
   ]
  },
  {
   "cell_type": "code",
   "execution_count": 19,
   "id": "189940f2",
   "metadata": {},
   "outputs": [],
   "source": [
    "# join new results with old list with extend and save to file\n",
    "previous_results.extend(results['businesses'])  \n",
    "with open(JSON_FILE,'w') as f:\n",
    "     json.dump(previous_results,f)\n"
   ]
  },
  {
   "cell_type": "code",
   "execution_count": 20,
   "id": "060afb14",
   "metadata": {},
   "outputs": [
    {
     "data": {
      "application/vnd.jupyter.widget-view+json": {
       "model_id": "8bbc12653daf4716b2acd28a7226bce3",
       "version_major": 2,
       "version_minor": 0
      },
      "text/plain": [
       "  0%|          | 0/20 [00:00<?, ?it/s]"
      ]
     },
     "metadata": {},
     "output_type": "display_data"
    }
   ],
   "source": [
    "from tqdm.notebook import tqdm_notebook\n",
    "import time\n",
    "\n",
    "for i in tqdm_notebook(range(n_pages)):\n",
    "    # adds 200 ms pause\n",
    "    time.sleep(.2) \n"
   ]
  },
  {
   "cell_type": "code",
   "execution_count": 21,
   "id": "6740faa9",
   "metadata": {},
   "outputs": [
    {
     "data": {
      "application/vnd.jupyter.widget-view+json": {
       "model_id": "dd2e3ad22d6c4af69519341be81f54b1",
       "version_major": 2,
       "version_minor": 0
      },
      "text/plain": [
       "  0%|          | 0/20 [00:00<?, ?it/s]"
      ]
     },
     "metadata": {},
     "output_type": "display_data"
    }
   ],
   "source": [
    "for i in tqdm_notebook( range(1,n_pages+1)):\n",
    "    \n",
    "    ## Read in results in progress file and check the length\n",
    "    with open(JSON_FILE, 'r') as f:\n",
    "        previous_results = json.load(f)\n",
    "    ## save number of results for to use as offset\n",
    "    n_results = len(previous_results)\n",
    "    ## use n_results as the OFFSET \n",
    "    results = yelp_api.search_query(location=LOCATION,\n",
    "                                    term=TERM, \n",
    "                                    offset=n_results)\n",
    "    \n",
    "    ## append new results and save to file\n",
    "    previous_results.extend(results['businesses'])\n",
    "    \n",
    "#     ass=\"function call from-rainbow\">display(previous_results)\n",
    "    with open(JSON_FILE,'w') as f:\n",
    "        json.dump(previous_results,f)\n",
    "    \n",
    "    # add a 200ms pause\n",
    "    time.sleep(.2)\n",
    "\n"
   ]
  },
  {
   "cell_type": "code",
   "execution_count": 22,
   "id": "abee8945",
   "metadata": {},
   "outputs": [
    {
     "data": {
      "text/plain": [
       "False"
      ]
     },
     "execution_count": 22,
     "metadata": {},
     "output_type": "execute_result"
    }
   ],
   "source": [
    "## delete file and confirm it no longer exits.\n",
    "os.remove(JSON_FILE)\n",
    "os.path.isfile(JSON_FILE)\n",
    "\n"
   ]
  },
  {
   "cell_type": "code",
   "execution_count": 23,
   "id": "45e8187d",
   "metadata": {},
   "outputs": [],
   "source": [
    "def create_json_file(JSON_FILE,  delete_if_exists=False):\n",
    "    \n",
    "    ## Check if JSON_FILE exists\n",
    "    file_exists = os.path.isfile(JSON_FILE)\n",
    "    \n",
    "    ## If it DOES exist:\n",
    "    if file_exists == True:\n",
    "        \n",
    "        ## Check if user wants to delete if exists\n",
    "        if delete_if_exists==True:\n",
    "            \n",
    "            print(f\"[!] {JSON_FILE} already exists. Deleting previous file...\")\n",
    "            ## delete file and confirm it no longer exits.\n",
    "            os.remove(JSON_FILE)\n",
    "        else:\n",
    "            print(f\"[i] {JSON_FILE} already exists.\")            \n",
    "            \n",
    "            \n",
    "    ## If it does NOT exist:\n",
    "    else:\n",
    "        \n",
    "        ## INFORM USER AND SAVE EMPTY LIST\n",
    "        print(f\"[i] {JSON_FILE} not found. Saving empty list to new file.\")\n",
    "        \n",
    "        ## CREATE ANY NEEDED FOLDERS\n",
    "        # Get the Folder Name only\n",
    "        folder = os.path.dirname(JSON_FILE)\n",
    "        \n",
    "        ## If JSON_FILE included a folder:\n",
    "        if len(folder)>0:\n",
    "            # create the folder\n",
    "            os.makedirs(folder,exist_ok=True)\n",
    "        ## Save empty list to start the json file\n",
    "        with open(JSON_FILE,'w') as f:\n",
    "            json.dump([],f)  \n",
    "\n"
   ]
  },
  {
   "cell_type": "code",
   "execution_count": 24,
   "id": "36cd42f4",
   "metadata": {},
   "outputs": [
    {
     "name": "stdout",
     "output_type": "stream",
     "text": [
      "[i] data/results_in_progress_Ventura_beer.json not found. Saving empty list to new file.\n",
      "- 0 previous results found.\n"
     ]
    },
    {
     "data": {
      "text/plain": [
       "20"
      ]
     },
     "execution_count": 24,
     "metadata": {},
     "output_type": "execute_result"
    }
   ],
   "source": [
    "## Create a new empty json file (exist the previous if it exists)\n",
    "create_json_file(JSON_FILE, delete_if_exists=True)\n",
    "\n",
    "\n",
    "## Load previous results and use len of results for offset\n",
    "with open(JSON_FILE,'r') as f:\n",
    "    previous_results = json.load(f)\n",
    "    \n",
    "## set offset based on previous results\n",
    "n_results = len(previous_results)\n",
    "\n",
    "print(f'- {n_results} previous results found.')\n",
    "\n",
    "# use our yelp_api variable's search_query method to perform our API call\n",
    "results = yelp_api.search_query(location=LOCATION,\n",
    "                                term=TERM,\n",
    "                               offset=n_results)\n",
    "## How many results total?\n",
    "total_results = results['total']\n",
    "## How many did we get the details for?\n",
    "results_per_page = len(results['businesses'])\n",
    "# Use math.ceil to round up for the total number of pages of results.\n",
    "n_pages = math.ceil((results['total']-n_results)/ results_per_page)\n",
    "n_pages\n",
    "\n"
   ]
  },
  {
   "cell_type": "code",
   "execution_count": 25,
   "id": "427415c5",
   "metadata": {},
   "outputs": [
    {
     "data": {
      "application/vnd.jupyter.widget-view+json": {
       "model_id": "72171e56921646368c46952495099611",
       "version_major": 2,
       "version_minor": 0
      },
      "text/plain": [
       "  0%|          | 0/20 [00:00<?, ?it/s]"
      ]
     },
     "metadata": {},
     "output_type": "display_data"
    }
   ],
   "source": [
    "for i in tqdm_notebook( range(1,n_pages+1)):\n",
    "    \n",
    "    ## Read in results in progress file and check the length\n",
    "    with open(JSON_FILE, 'r') as f:\n",
    "        previous_results = json.load(f)\n",
    "    ## save number of results for to use as offset\n",
    "    n_results = len(previous_results)\n",
    "    \n",
    "    if (n_results + results_per_page) > 1000:\n",
    "        print('Exceeded 1000 api calls. Stopping loop.')\n",
    "        break\n",
    "    \n",
    "    ## use n_results as the OFFSET \n",
    "    results = yelp_api.search_query(location=LOCATION,\n",
    "                                    term=TERM, \n",
    "                                    offset=n_results)\n",
    "    \n",
    "    \n",
    "    \n",
    "    ## append new results and save to file\n",
    "    previous_results.extend(results['businesses'])\n",
    "    \n",
    "    # display(previous_results)\n",
    "    with open(JSON_FILE,'w') as f:\n",
    "        json.dump(previous_results,f)\n",
    "    \n",
    "    time.sleep(.2)\n",
    "\n"
   ]
  },
  {
   "cell_type": "code",
   "execution_count": 26,
   "id": "1ef2c8c5",
   "metadata": {},
   "outputs": [
    {
     "data": {
      "text/html": [
       "<div>\n",
       "<style scoped>\n",
       "    .dataframe tbody tr th:only-of-type {\n",
       "        vertical-align: middle;\n",
       "    }\n",
       "\n",
       "    .dataframe tbody tr th {\n",
       "        vertical-align: top;\n",
       "    }\n",
       "\n",
       "    .dataframe thead th {\n",
       "        text-align: right;\n",
       "    }\n",
       "</style>\n",
       "<table border=\"1\" class=\"dataframe\">\n",
       "  <thead>\n",
       "    <tr style=\"text-align: right;\">\n",
       "      <th></th>\n",
       "      <th>id</th>\n",
       "      <th>alias</th>\n",
       "      <th>name</th>\n",
       "      <th>image_url</th>\n",
       "      <th>is_closed</th>\n",
       "      <th>url</th>\n",
       "      <th>review_count</th>\n",
       "      <th>categories</th>\n",
       "      <th>rating</th>\n",
       "      <th>coordinates</th>\n",
       "      <th>transactions</th>\n",
       "      <th>price</th>\n",
       "      <th>location</th>\n",
       "      <th>phone</th>\n",
       "      <th>display_phone</th>\n",
       "      <th>distance</th>\n",
       "    </tr>\n",
       "  </thead>\n",
       "  <tbody>\n",
       "    <tr>\n",
       "      <th>0</th>\n",
       "      <td>7-18hDIQaFTxnUjl0xDBHA</td>\n",
       "      <td>ventura-coast-brewing-ventura-2</td>\n",
       "      <td>Ventura Coast Brewing</td>\n",
       "      <td>https://s3-media4.fl.yelpcdn.com/bphoto/a4kfvD...</td>\n",
       "      <td>False</td>\n",
       "      <td>https://www.yelp.com/biz/ventura-coast-brewing...</td>\n",
       "      <td>171</td>\n",
       "      <td>[{'alias': 'breweries', 'title': 'Breweries'}]</td>\n",
       "      <td>4.5</td>\n",
       "      <td>{'latitude': 34.27974, 'longitude': -119.29426}</td>\n",
       "      <td>[]</td>\n",
       "      <td>$$</td>\n",
       "      <td>{'address1': '76 South Oak St', 'address2': ''...</td>\n",
       "      <td>+18056678640</td>\n",
       "      <td>(805) 667-8640</td>\n",
       "      <td>5722.699034</td>\n",
       "    </tr>\n",
       "    <tr>\n",
       "      <th>1</th>\n",
       "      <td>wWezojVpRxlh4w6-WFgm9Q</td>\n",
       "      <td>transmission-brewing-ventura</td>\n",
       "      <td>Transmission Brewing</td>\n",
       "      <td>https://s3-media1.fl.yelpcdn.com/bphoto/GhNfol...</td>\n",
       "      <td>False</td>\n",
       "      <td>https://www.yelp.com/biz/transmission-brewing-...</td>\n",
       "      <td>86</td>\n",
       "      <td>[{'alias': 'breweries', 'title': 'Breweries'}]</td>\n",
       "      <td>4.5</td>\n",
       "      <td>{'latitude': 34.276787, 'longitude': -119.284099}</td>\n",
       "      <td>[]</td>\n",
       "      <td>$$</td>\n",
       "      <td>{'address1': '1098 E Front St', 'address2': No...</td>\n",
       "      <td>+18057514075</td>\n",
       "      <td>(805) 751-4075</td>\n",
       "      <td>4722.700741</td>\n",
       "    </tr>\n",
       "    <tr>\n",
       "      <th>2</th>\n",
       "      <td>IGARNTZT-nddNwigaX-Zvg</td>\n",
       "      <td>poseidon-brewing-company-ventura-4</td>\n",
       "      <td>Poseidon Brewing Company</td>\n",
       "      <td>https://s3-media3.fl.yelpcdn.com/bphoto/g_t2d3...</td>\n",
       "      <td>False</td>\n",
       "      <td>https://www.yelp.com/biz/poseidon-brewing-comp...</td>\n",
       "      <td>158</td>\n",
       "      <td>[{'alias': 'breweries', 'title': 'Breweries'}]</td>\n",
       "      <td>4.5</td>\n",
       "      <td>{'latitude': 34.2437449, 'longitude': -119.209...</td>\n",
       "      <td>[]</td>\n",
       "      <td>$$</td>\n",
       "      <td>{'address1': '5777 Olivas Park Dr', 'address2'...</td>\n",
       "      <td>+18054770239</td>\n",
       "      <td>(805) 477-0239</td>\n",
       "      <td>3292.309520</td>\n",
       "    </tr>\n",
       "    <tr>\n",
       "      <th>3</th>\n",
       "      <td>DV4NN8OuP9usuMa5B7ADpA</td>\n",
       "      <td>seaward-brewing-ventura</td>\n",
       "      <td>Seaward Brewing</td>\n",
       "      <td>https://s3-media4.fl.yelpcdn.com/bphoto/ALOD_T...</td>\n",
       "      <td>False</td>\n",
       "      <td>https://www.yelp.com/biz/seaward-brewing-ventu...</td>\n",
       "      <td>49</td>\n",
       "      <td>[{'alias': 'breweries', 'title': 'Breweries'}]</td>\n",
       "      <td>5.0</td>\n",
       "      <td>{'latitude': 34.25559, 'longitude': -119.23179}</td>\n",
       "      <td>[delivery]</td>\n",
       "      <td>NaN</td>\n",
       "      <td>{'address1': '1920 Goodyear Ave', 'address2': ...</td>\n",
       "      <td>+18055077202</td>\n",
       "      <td>(805) 507-7202</td>\n",
       "      <td>1088.087173</td>\n",
       "    </tr>\n",
       "    <tr>\n",
       "      <th>4</th>\n",
       "      <td>Ch9YY1-adspJ-HLU-yaP1Q</td>\n",
       "      <td>madewest-brewing-company-ventura-pier-ventura</td>\n",
       "      <td>Madewest Brewing Company - Ventura Pier</td>\n",
       "      <td>https://s3-media1.fl.yelpcdn.com/bphoto/h8LuTG...</td>\n",
       "      <td>False</td>\n",
       "      <td>https://www.yelp.com/biz/madewest-brewing-comp...</td>\n",
       "      <td>62</td>\n",
       "      <td>[{'alias': 'beerbar', 'title': 'Beer Bar'}]</td>\n",
       "      <td>4.5</td>\n",
       "      <td>{'latitude': 34.27574067, 'longitude': -119.29...</td>\n",
       "      <td>[]</td>\n",
       "      <td>$$</td>\n",
       "      <td>{'address1': '668 E Harbor Blvd', 'address2': ...</td>\n",
       "      <td>+18059475002</td>\n",
       "      <td>(805) 947-5002</td>\n",
       "      <td>5299.895952</td>\n",
       "    </tr>\n",
       "  </tbody>\n",
       "</table>\n",
       "</div>"
      ],
      "text/plain": [
       "                       id                                          alias  \\\n",
       "0  7-18hDIQaFTxnUjl0xDBHA                ventura-coast-brewing-ventura-2   \n",
       "1  wWezojVpRxlh4w6-WFgm9Q                   transmission-brewing-ventura   \n",
       "2  IGARNTZT-nddNwigaX-Zvg             poseidon-brewing-company-ventura-4   \n",
       "3  DV4NN8OuP9usuMa5B7ADpA                        seaward-brewing-ventura   \n",
       "4  Ch9YY1-adspJ-HLU-yaP1Q  madewest-brewing-company-ventura-pier-ventura   \n",
       "\n",
       "                                      name  \\\n",
       "0                    Ventura Coast Brewing   \n",
       "1                     Transmission Brewing   \n",
       "2                 Poseidon Brewing Company   \n",
       "3                          Seaward Brewing   \n",
       "4  Madewest Brewing Company - Ventura Pier   \n",
       "\n",
       "                                           image_url  is_closed  \\\n",
       "0  https://s3-media4.fl.yelpcdn.com/bphoto/a4kfvD...      False   \n",
       "1  https://s3-media1.fl.yelpcdn.com/bphoto/GhNfol...      False   \n",
       "2  https://s3-media3.fl.yelpcdn.com/bphoto/g_t2d3...      False   \n",
       "3  https://s3-media4.fl.yelpcdn.com/bphoto/ALOD_T...      False   \n",
       "4  https://s3-media1.fl.yelpcdn.com/bphoto/h8LuTG...      False   \n",
       "\n",
       "                                                 url  review_count  \\\n",
       "0  https://www.yelp.com/biz/ventura-coast-brewing...           171   \n",
       "1  https://www.yelp.com/biz/transmission-brewing-...            86   \n",
       "2  https://www.yelp.com/biz/poseidon-brewing-comp...           158   \n",
       "3  https://www.yelp.com/biz/seaward-brewing-ventu...            49   \n",
       "4  https://www.yelp.com/biz/madewest-brewing-comp...            62   \n",
       "\n",
       "                                       categories  rating  \\\n",
       "0  [{'alias': 'breweries', 'title': 'Breweries'}]     4.5   \n",
       "1  [{'alias': 'breweries', 'title': 'Breweries'}]     4.5   \n",
       "2  [{'alias': 'breweries', 'title': 'Breweries'}]     4.5   \n",
       "3  [{'alias': 'breweries', 'title': 'Breweries'}]     5.0   \n",
       "4     [{'alias': 'beerbar', 'title': 'Beer Bar'}]     4.5   \n",
       "\n",
       "                                         coordinates transactions price  \\\n",
       "0    {'latitude': 34.27974, 'longitude': -119.29426}           []    $$   \n",
       "1  {'latitude': 34.276787, 'longitude': -119.284099}           []    $$   \n",
       "2  {'latitude': 34.2437449, 'longitude': -119.209...           []    $$   \n",
       "3    {'latitude': 34.25559, 'longitude': -119.23179}   [delivery]   NaN   \n",
       "4  {'latitude': 34.27574067, 'longitude': -119.29...           []    $$   \n",
       "\n",
       "                                            location         phone  \\\n",
       "0  {'address1': '76 South Oak St', 'address2': ''...  +18056678640   \n",
       "1  {'address1': '1098 E Front St', 'address2': No...  +18057514075   \n",
       "2  {'address1': '5777 Olivas Park Dr', 'address2'...  +18054770239   \n",
       "3  {'address1': '1920 Goodyear Ave', 'address2': ...  +18055077202   \n",
       "4  {'address1': '668 E Harbor Blvd', 'address2': ...  +18059475002   \n",
       "\n",
       "    display_phone     distance  \n",
       "0  (805) 667-8640  5722.699034  \n",
       "1  (805) 751-4075  4722.700741  \n",
       "2  (805) 477-0239  3292.309520  \n",
       "3  (805) 507-7202  1088.087173  \n",
       "4  (805) 947-5002  5299.895952  "
      ]
     },
     "metadata": {},
     "output_type": "display_data"
    },
    {
     "data": {
      "text/html": [
       "<div>\n",
       "<style scoped>\n",
       "    .dataframe tbody tr th:only-of-type {\n",
       "        vertical-align: middle;\n",
       "    }\n",
       "\n",
       "    .dataframe tbody tr th {\n",
       "        vertical-align: top;\n",
       "    }\n",
       "\n",
       "    .dataframe thead th {\n",
       "        text-align: right;\n",
       "    }\n",
       "</style>\n",
       "<table border=\"1\" class=\"dataframe\">\n",
       "  <thead>\n",
       "    <tr style=\"text-align: right;\">\n",
       "      <th></th>\n",
       "      <th>id</th>\n",
       "      <th>alias</th>\n",
       "      <th>name</th>\n",
       "      <th>image_url</th>\n",
       "      <th>is_closed</th>\n",
       "      <th>url</th>\n",
       "      <th>review_count</th>\n",
       "      <th>categories</th>\n",
       "      <th>rating</th>\n",
       "      <th>coordinates</th>\n",
       "      <th>transactions</th>\n",
       "      <th>price</th>\n",
       "      <th>location</th>\n",
       "      <th>phone</th>\n",
       "      <th>display_phone</th>\n",
       "      <th>distance</th>\n",
       "    </tr>\n",
       "  </thead>\n",
       "  <tbody>\n",
       "    <tr>\n",
       "      <th>389</th>\n",
       "      <td>DeYnJBoxvSgpKCyZPJyqIQ</td>\n",
       "      <td>chesters-asia-restaurant-camarillo-3</td>\n",
       "      <td>Chester's Asia Restaurant</td>\n",
       "      <td>https://s3-media4.fl.yelpcdn.com/bphoto/5F8dRR...</td>\n",
       "      <td>False</td>\n",
       "      <td>https://www.yelp.com/biz/chesters-asia-restaur...</td>\n",
       "      <td>334</td>\n",
       "      <td>[{'alias': 'chinese', 'title': 'Chinese'}]</td>\n",
       "      <td>3.5</td>\n",
       "      <td>{'latitude': 34.2221327, 'longitude': -119.040...</td>\n",
       "      <td>[delivery]</td>\n",
       "      <td>$$</td>\n",
       "      <td>{'address1': '2216 Pickwick Dr', 'address2': '...</td>\n",
       "      <td>+18054826564</td>\n",
       "      <td>(805) 482-6564</td>\n",
       "      <td>18536.564175</td>\n",
       "    </tr>\n",
       "    <tr>\n",
       "      <th>390</th>\n",
       "      <td>MKYUx1FXTH2XYVHBpw2lYA</td>\n",
       "      <td>tresierras-supermarkets-oxnard</td>\n",
       "      <td>Tresierras Supermarkets</td>\n",
       "      <td>https://s3-media1.fl.yelpcdn.com/bphoto/5zKsYc...</td>\n",
       "      <td>False</td>\n",
       "      <td>https://www.yelp.com/biz/tresierras-supermarke...</td>\n",
       "      <td>21</td>\n",
       "      <td>[{'alias': 'mexican', 'title': 'Mexican'}, {'a...</td>\n",
       "      <td>2.5</td>\n",
       "      <td>{'latitude': 34.154843, 'longitude': -119.1780...</td>\n",
       "      <td>[]</td>\n",
       "      <td>$$</td>\n",
       "      <td>{'address1': '133 W Pleasant Valley Rd', 'addr...</td>\n",
       "      <td>+18054876666</td>\n",
       "      <td>(805) 487-6666</td>\n",
       "      <td>13193.182333</td>\n",
       "    </tr>\n",
       "    <tr>\n",
       "      <th>391</th>\n",
       "      <td>oGYOov1su16Y3_qq9-xBfA</td>\n",
       "      <td>rubys-fresh-mexican-food-and-tequila-bar-camar...</td>\n",
       "      <td>Ruby's Fresh Mexican Food and Tequila Bar</td>\n",
       "      <td>https://s3-media3.fl.yelpcdn.com/bphoto/CkjPAU...</td>\n",
       "      <td>False</td>\n",
       "      <td>https://www.yelp.com/biz/rubys-fresh-mexican-f...</td>\n",
       "      <td>243</td>\n",
       "      <td>[{'alias': 'mexican', 'title': 'Mexican'}, {'a...</td>\n",
       "      <td>3.0</td>\n",
       "      <td>{'latitude': 34.2365668717825, 'longitude': -1...</td>\n",
       "      <td>[pickup, delivery]</td>\n",
       "      <td>$$</td>\n",
       "      <td>{'address1': '2508 Las Posas Rd', 'address2': ...</td>\n",
       "      <td>+18053839100</td>\n",
       "      <td>(805) 383-9100</td>\n",
       "      <td>18436.756347</td>\n",
       "    </tr>\n",
       "    <tr>\n",
       "      <th>392</th>\n",
       "      <td>m59QH8AhGdYdgfGeW6gyqQ</td>\n",
       "      <td>sumo-sushi-camarillo</td>\n",
       "      <td>Sumo Sushi</td>\n",
       "      <td>https://s3-media2.fl.yelpcdn.com/bphoto/EhnAJ1...</td>\n",
       "      <td>False</td>\n",
       "      <td>https://www.yelp.com/biz/sumo-sushi-camarillo?...</td>\n",
       "      <td>338</td>\n",
       "      <td>[{'alias': 'sushi', 'title': 'Sushi Bars'}, {'...</td>\n",
       "      <td>3.5</td>\n",
       "      <td>{'latitude': 34.21885, 'longitude': -119.05168}</td>\n",
       "      <td>[delivery]</td>\n",
       "      <td>$$</td>\n",
       "      <td>{'address1': '1490 E Daily Dr', 'address2': ''...</td>\n",
       "      <td>+18054451001</td>\n",
       "      <td>(805) 445-1001</td>\n",
       "      <td>17593.958289</td>\n",
       "    </tr>\n",
       "    <tr>\n",
       "      <th>393</th>\n",
       "      <td>rt9GRhxO2gH_JM1BZFut2A</td>\n",
       "      <td>subway-oxnard-31</td>\n",
       "      <td>Subway</td>\n",
       "      <td>https://s3-media3.fl.yelpcdn.com/bphoto/WxbjLb...</td>\n",
       "      <td>False</td>\n",
       "      <td>https://www.yelp.com/biz/subway-oxnard-31?adju...</td>\n",
       "      <td>17</td>\n",
       "      <td>[{'alias': 'sandwiches', 'title': 'Sandwiches'}]</td>\n",
       "      <td>2.5</td>\n",
       "      <td>{'latitude': 34.2032474961078, 'longitude': -1...</td>\n",
       "      <td>[pickup, delivery]</td>\n",
       "      <td>$</td>\n",
       "      <td>{'address1': '200 Del Norte Blvd', 'address2':...</td>\n",
       "      <td>+18054856220</td>\n",
       "      <td>(805) 485-6220</td>\n",
       "      <td>12096.959118</td>\n",
       "    </tr>\n",
       "  </tbody>\n",
       "</table>\n",
       "</div>"
      ],
      "text/plain": [
       "                         id  \\\n",
       "389  DeYnJBoxvSgpKCyZPJyqIQ   \n",
       "390  MKYUx1FXTH2XYVHBpw2lYA   \n",
       "391  oGYOov1su16Y3_qq9-xBfA   \n",
       "392  m59QH8AhGdYdgfGeW6gyqQ   \n",
       "393  rt9GRhxO2gH_JM1BZFut2A   \n",
       "\n",
       "                                                 alias  \\\n",
       "389               chesters-asia-restaurant-camarillo-3   \n",
       "390                     tresierras-supermarkets-oxnard   \n",
       "391  rubys-fresh-mexican-food-and-tequila-bar-camar...   \n",
       "392                               sumo-sushi-camarillo   \n",
       "393                                   subway-oxnard-31   \n",
       "\n",
       "                                          name  \\\n",
       "389                  Chester's Asia Restaurant   \n",
       "390                    Tresierras Supermarkets   \n",
       "391  Ruby's Fresh Mexican Food and Tequila Bar   \n",
       "392                                 Sumo Sushi   \n",
       "393                                     Subway   \n",
       "\n",
       "                                             image_url  is_closed  \\\n",
       "389  https://s3-media4.fl.yelpcdn.com/bphoto/5F8dRR...      False   \n",
       "390  https://s3-media1.fl.yelpcdn.com/bphoto/5zKsYc...      False   \n",
       "391  https://s3-media3.fl.yelpcdn.com/bphoto/CkjPAU...      False   \n",
       "392  https://s3-media2.fl.yelpcdn.com/bphoto/EhnAJ1...      False   \n",
       "393  https://s3-media3.fl.yelpcdn.com/bphoto/WxbjLb...      False   \n",
       "\n",
       "                                                   url  review_count  \\\n",
       "389  https://www.yelp.com/biz/chesters-asia-restaur...           334   \n",
       "390  https://www.yelp.com/biz/tresierras-supermarke...            21   \n",
       "391  https://www.yelp.com/biz/rubys-fresh-mexican-f...           243   \n",
       "392  https://www.yelp.com/biz/sumo-sushi-camarillo?...           338   \n",
       "393  https://www.yelp.com/biz/subway-oxnard-31?adju...            17   \n",
       "\n",
       "                                            categories  rating  \\\n",
       "389         [{'alias': 'chinese', 'title': 'Chinese'}]     3.5   \n",
       "390  [{'alias': 'mexican', 'title': 'Mexican'}, {'a...     2.5   \n",
       "391  [{'alias': 'mexican', 'title': 'Mexican'}, {'a...     3.0   \n",
       "392  [{'alias': 'sushi', 'title': 'Sushi Bars'}, {'...     3.5   \n",
       "393   [{'alias': 'sandwiches', 'title': 'Sandwiches'}]     2.5   \n",
       "\n",
       "                                           coordinates        transactions  \\\n",
       "389  {'latitude': 34.2221327, 'longitude': -119.040...          [delivery]   \n",
       "390  {'latitude': 34.154843, 'longitude': -119.1780...                  []   \n",
       "391  {'latitude': 34.2365668717825, 'longitude': -1...  [pickup, delivery]   \n",
       "392    {'latitude': 34.21885, 'longitude': -119.05168}          [delivery]   \n",
       "393  {'latitude': 34.2032474961078, 'longitude': -1...  [pickup, delivery]   \n",
       "\n",
       "    price                                           location         phone  \\\n",
       "389    $$  {'address1': '2216 Pickwick Dr', 'address2': '...  +18054826564   \n",
       "390    $$  {'address1': '133 W Pleasant Valley Rd', 'addr...  +18054876666   \n",
       "391    $$  {'address1': '2508 Las Posas Rd', 'address2': ...  +18053839100   \n",
       "392    $$  {'address1': '1490 E Daily Dr', 'address2': ''...  +18054451001   \n",
       "393     $  {'address1': '200 Del Norte Blvd', 'address2':...  +18054856220   \n",
       "\n",
       "      display_phone      distance  \n",
       "389  (805) 482-6564  18536.564175  \n",
       "390  (805) 487-6666  13193.182333  \n",
       "391  (805) 383-9100  18436.756347  \n",
       "392  (805) 445-1001  17593.958289  \n",
       "393  (805) 485-6220  12096.959118  "
      ]
     },
     "metadata": {},
     "output_type": "display_data"
    }
   ],
   "source": [
    "# load final results\n",
    "final_df = pd.read_json(JSON_FILE)\n",
    "display(final_df.head(), final_df.tail())\n"
   ]
  },
  {
   "cell_type": "markdown",
   "id": "e8b67f84",
   "metadata": {},
   "source": [
    "### check for duplicate results\n",
    "`final_df.duplicated().sum()`\n",
    "\n",
    "Because our yelp results include columns that contain lists, we cannot check every column in dataframe for duplicates.\n",
    "Instead, we can use the subset argument for df.duplicated() and df.drop_duplicates() to only check the id column for duplicates.\n",
    "\n"
   ]
  },
  {
   "cell_type": "code",
   "execution_count": 28,
   "id": "cd5ee2bc",
   "metadata": {},
   "outputs": [
    {
     "data": {
      "text/plain": [
       "0"
      ]
     },
     "execution_count": 28,
     "metadata": {},
     "output_type": "execute_result"
    }
   ],
   "source": [
    "# check for duplicate ID's \n",
    "final_df.duplicated(subset='id').sum()\n",
    "\n"
   ]
  },
  {
   "cell_type": "code",
   "execution_count": 29,
   "id": "a978e0c1",
   "metadata": {},
   "outputs": [
    {
     "data": {
      "text/plain": [
       "0"
      ]
     },
     "execution_count": 29,
     "metadata": {},
     "output_type": "execute_result"
    }
   ],
   "source": [
    "## Drop duplicate ids and confirm there are no more duplicates\n",
    "final_df = final_df.drop_duplicates(subset='id')\n",
    "final_df.duplicated(subset='id').sum()\n"
   ]
  },
  {
   "cell_type": "code",
   "execution_count": 30,
   "id": "1c064238",
   "metadata": {},
   "outputs": [],
   "source": [
    "# save the final results to a compressed csv\n",
    "final_df.to_csv('Data/final_results_Ventura_beer.csv.gz', compression='gzip',index=False)\n",
    "\n"
   ]
  },
  {
   "cell_type": "code",
   "execution_count": null,
   "id": "13aa8bbd",
   "metadata": {},
   "outputs": [],
   "source": []
  }
 ],
 "metadata": {
  "kernelspec": {
   "display_name": "Python (dojo-env)",
   "language": "python",
   "name": "dojo-env"
  },
  "language_info": {
   "codemirror_mode": {
    "name": "ipython",
    "version": 3
   },
   "file_extension": ".py",
   "mimetype": "text/x-python",
   "name": "python",
   "nbconvert_exporter": "python",
   "pygments_lexer": "ipython3",
   "version": "3.8.13"
  },
  "toc": {
   "base_numbering": 1,
   "nav_menu": {},
   "number_sections": false,
   "sideBar": true,
   "skip_h1_title": false,
   "title_cell": "Table of Contents",
   "title_sidebar": "Contents",
   "toc_cell": false,
   "toc_position": {},
   "toc_section_display": true,
   "toc_window_display": false
  }
 },
 "nbformat": 4,
 "nbformat_minor": 5
}
