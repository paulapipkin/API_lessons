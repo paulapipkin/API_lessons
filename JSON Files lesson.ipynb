{
 "cells": [
  {
   "cell_type": "code",
   "execution_count": 1,
   "id": "d193a44e",
   "metadata": {},
   "outputs": [
    {
     "data": {
      "text/plain": [
       "'My test message to save to file.\\nIt is a multi-line string.'"
      ]
     },
     "execution_count": 1,
     "metadata": {},
     "output_type": "execute_result"
    }
   ],
   "source": [
    "# This is the example message we want to save as .txt\n",
    "message = \"\"\"My test message to save to file.\n",
    "It is a multi-line string.\"\"\"\n",
    "message\n",
    "\n"
   ]
  },
  {
   "cell_type": "markdown",
   "id": "48252bf0",
   "metadata": {},
   "source": [
    "Saving to file: using \"with open\" to write to file ('w')"
   ]
  },
  {
   "cell_type": "code",
   "execution_count": 2,
   "id": "2688b58e",
   "metadata": {},
   "outputs": [],
   "source": [
    "# Save it to a file\n",
    "with open('example_file.txt','w') as file:\n",
    "    file.write(message)\n"
   ]
  },
  {
   "cell_type": "markdown",
   "id": "af2d254f",
   "metadata": {},
   "source": [
    "Opening a file: using \"with open\" to read a file ('r')"
   ]
  },
  {
   "cell_type": "code",
   "execution_count": 3,
   "id": "d9c40271",
   "metadata": {},
   "outputs": [
    {
     "data": {
      "text/plain": [
       "'My test message to save to file.\\nIt is a multi-line string.'"
      ]
     },
     "execution_count": 3,
     "metadata": {},
     "output_type": "execute_result"
    }
   ],
   "source": [
    "with open('example_file.txt','r') as f:\n",
    "    loaded = f.read()\n",
    "    \n",
    "loaded\n",
    "\n"
   ]
  },
  {
   "cell_type": "markdown",
   "id": "e2568b75",
   "metadata": {},
   "source": [
    "Opening JSON Files and using the json module"
   ]
  },
  {
   "cell_type": "code",
   "execution_count": 4,
   "id": "0308da1b",
   "metadata": {},
   "outputs": [],
   "source": [
    "import json\n"
   ]
  },
  {
   "cell_type": "markdown",
   "id": "12345d84",
   "metadata": {},
   "source": [
    "Example to save\n",
    "\n",
    "To demonstrate how to create a JSON file, we will create a dictionary called \"data\".  \n",
    "\n",
    "Notice that we are using single quotes in our python dictionary below, even though json files require double quotes. The .json module is smart enough to automatically convert single quotes to double quotes when saving the data to the .json file. "
   ]
  },
  {
   "cell_type": "code",
   "execution_count": 5,
   "id": "b69b53d9",
   "metadata": {},
   "outputs": [
    {
     "data": {
      "text/plain": [
       "{'stack': 4,\n",
       " 'week': 2,\n",
       " 'things learned': ['MySQL',\n",
       "  'MySQL WorkBench',\n",
       "  'GitHub Desktop',\n",
       "  'Jupyter Notebooks',\n",
       "  'JSON']}"
      ]
     },
     "execution_count": 5,
     "metadata": {},
     "output_type": "execute_result"
    }
   ],
   "source": [
    "## Saving a dictionary to a JSON file\n",
    "data = {'stack':4, 'week':2, \n",
    "       'things learned':['MySQL','MySQL WorkBench',\n",
    "                         'GitHub Desktop','Jupyter Notebooks','JSON' ]}\n",
    "data\n",
    "\n"
   ]
  },
  {
   "cell_type": "markdown",
   "id": "262dfd8a",
   "metadata": {},
   "source": [
    "Saving to file: using \"with open\" to write to file ('w') and json.dump"
   ]
  },
  {
   "cell_type": "code",
   "execution_count": 6,
   "id": "2fc5be56",
   "metadata": {},
   "outputs": [],
   "source": [
    "## save dict to json file with json.dump\n",
    "with open('example_saved_data.json','w') as f:\n",
    "    json.dump(data, f)\n",
    "\n"
   ]
  },
  {
   "cell_type": "markdown",
   "id": "93a10fe8",
   "metadata": {},
   "source": [
    "Opening a file: using \"with open\" to read a file ('r') and json.load"
   ]
  },
  {
   "cell_type": "code",
   "execution_count": 7,
   "id": "110dc41d",
   "metadata": {},
   "outputs": [
    {
     "data": {
      "text/plain": [
       "{'stack': 4,\n",
       " 'week': 2,\n",
       " 'things learned': ['MySQL',\n",
       "  'MySQL WorkBench',\n",
       "  'GitHub Desktop',\n",
       "  'Jupyter Notebooks',\n",
       "  'JSON']}"
      ]
     },
     "execution_count": 7,
     "metadata": {},
     "output_type": "execute_result"
    }
   ],
   "source": [
    "## Load saved json file back to dictionary\n",
    "with open('example_saved_data.json') as f:\n",
    "    loaded = json.load(f)\n",
    "loaded\n",
    "\n"
   ]
  },
  {
   "cell_type": "markdown",
   "id": "e4ca1751",
   "metadata": {},
   "source": [
    "Check on your file"
   ]
  },
  {
   "cell_type": "code",
   "execution_count": 8,
   "id": "dbffadc5",
   "metadata": {},
   "outputs": [
    {
     "name": "stdout",
     "output_type": "stream",
     "text": [
      "<class 'dict'>\n"
     ]
    },
    {
     "data": {
      "text/plain": [
       "dict_keys(['stack', 'week', 'things learned'])"
      ]
     },
     "execution_count": 8,
     "metadata": {},
     "output_type": "execute_result"
    }
   ],
   "source": [
    "print(type(loaded))\n",
    "loaded.keys()\n"
   ]
  },
  {
   "cell_type": "markdown",
   "id": "05ff2a5c",
   "metadata": {},
   "source": [
    "NOT best practice: Saving text to a new .txt file with open\n",
    "You may come across code similar to that shown below, and it will work, but it is NOT best practice!\n",
    "\n",
    "## open a connection to new file in write mode\n",
    "`file = open('example_file.txt','w')`\n",
    "## to save text to the open file, use write\n",
    "`message = \"\"\"My test message to save to file.\n",
    "It is a multi-line string.\"\"\"\n",
    "file.write(message)copy`\n",
    "\n",
    "The major disadvantage to this approach to opening files is that it is very easy to accidentally keep a file open which could possibly lead to data corruption of the file. To reduce this risk, you must remember to close the file!\n",
    "\n",
    "## VERY IMPORTANT: close the file!\n",
    "`file.close()copy`\n"
   ]
  },
  {
   "cell_type": "code",
   "execution_count": null,
   "id": "59580b9f",
   "metadata": {},
   "outputs": [],
   "source": []
  }
 ],
 "metadata": {
  "kernelspec": {
   "display_name": "Python (dojo-env)",
   "language": "python",
   "name": "dojo-env"
  },
  "language_info": {
   "codemirror_mode": {
    "name": "ipython",
    "version": 3
   },
   "file_extension": ".py",
   "mimetype": "text/x-python",
   "name": "python",
   "nbconvert_exporter": "python",
   "pygments_lexer": "ipython3",
   "version": "3.8.13"
  },
  "toc": {
   "base_numbering": 1,
   "nav_menu": {},
   "number_sections": false,
   "sideBar": true,
   "skip_h1_title": false,
   "title_cell": "Table of Contents",
   "title_sidebar": "Contents",
   "toc_cell": false,
   "toc_position": {},
   "toc_section_display": true,
   "toc_window_display": false
  }
 },
 "nbformat": 4,
 "nbformat_minor": 5
}
